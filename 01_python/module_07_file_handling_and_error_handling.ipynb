{
 "cells": [
  {
   "cell_type": "markdown",
   "id": "4408e1c0",
   "metadata": {},
   "source": [
    "# File Loading and read in Python"
   ]
  },
  {
   "cell_type": "code",
   "execution_count": 13,
   "id": "bf3e0cd1",
   "metadata": {},
   "outputs": [
    {
     "name": "stdout",
     "output_type": "stream",
     "text": [
      "hello python world\n",
      "welcome to AI/ML with Phitron\n",
      "<class 'str'>\n",
      "False\n",
      "True\n"
     ]
    }
   ],
   "source": [
    "# file read\n",
    "file = open('sample.txt',\"r\")\n",
    "content = file.read()\n",
    "print(content)\n",
    "print(type(content))\n",
    "print(file.closed)\n",
    "file.close()\n",
    "print(file.closed)"
   ]
  },
  {
   "cell_type": "code",
   "execution_count": 12,
   "id": "03c3a0a7",
   "metadata": {},
   "outputs": [
    {
     "name": "stdout",
     "output_type": "stream",
     "text": [
      "['hello python world\\n', 'welcome to AI/ML with Phitron']\n",
      "<class 'list'>\n"
     ]
    }
   ],
   "source": [
    "# file read lines\n",
    "file = open('sample.txt',\"r\")\n",
    "content = file.readlines()\n",
    "print(content)\n",
    "print(type(content)) "
   ]
  },
  {
   "cell_type": "code",
   "execution_count": 19,
   "id": "d89bc48b",
   "metadata": {},
   "outputs": [
    {
     "name": "stdout",
     "output_type": "stream",
     "text": [
      "['hello python world\\n', 'welcome to AI/ML with Phitron']\n",
      "False\n",
      "True\n",
      "**********\n",
      "hello python world\n",
      "welcome to AI/ML with Phitron\n"
     ]
    }
   ],
   "source": [
    "# close automatically -> best practice\n",
    "with open(\"sample.txt\",\"r\") as file:\n",
    "    content = file.readlines()\n",
    "    print(content)\n",
    "    print(file.closed)\n",
    "print(file.closed)\n",
    "print(\"**********\")\n",
    "with open(\"sample.txt\",\"r\") as file:\n",
    "    for line in file:\n",
    "        # print(line,end=\"\")\n",
    "        l = line.strip()\n",
    "        print(l)\n",
    "        "
   ]
  },
  {
   "cell_type": "markdown",
   "id": "b508a766",
   "metadata": {},
   "source": [
    "# File Write and Append"
   ]
  },
  {
   "cell_type": "code",
   "execution_count": 21,
   "id": "6fcd809b",
   "metadata": {},
   "outputs": [],
   "source": [
    "# create new file and write\n",
    "with open(\"example.txt\",\"w\") as file: \n",
    "    file.write(\"Hello test file\\n\")\n",
    "    file.write(\"How is the learning going on?\")\n",
    "    "
   ]
  },
  {
   "cell_type": "code",
   "execution_count": 24,
   "id": "a405a4b3",
   "metadata": {},
   "outputs": [],
   "source": [
    "# writing on a existing file\n",
    "# it overwrites the file\n",
    "with open(\"example.txt\",\"w\") as file: \n",
    "    file.write(\"Second Attempt\\n\")\n",
    "    file.write(\"Learning is going fast\\n\")"
   ]
  },
  {
   "cell_type": "code",
   "execution_count": 25,
   "id": "b9648df8",
   "metadata": {},
   "outputs": [],
   "source": [
    "# No overwriting juist append the text in the existing file\n",
    "with open(\"example.txt\",\"a\") as file: \n",
    "    file.write(\"The learning of AI/ML is Fun\\n\")\n",
    "    file.write(\"I am enjoying the classess\")"
   ]
  },
  {
   "cell_type": "markdown",
   "id": "e6ecdcc8",
   "metadata": {},
   "source": [
    "# File Pointer/Cursor in Python"
   ]
  },
  {
   "cell_type": "code",
   "execution_count": null,
   "id": "194b5497",
   "metadata": {},
   "outputs": [
    {
     "name": "stdout",
     "output_type": "stream",
     "text": [
      "0\n",
      "hello\n",
      "5\n",
      "\n",
      "5\n",
      "\n",
      "5\n"
     ]
    }
   ],
   "source": [
    "with open(\"sample.txt\",\"r\") as file:\n",
    "    print(file.tell()) # currently where the cursor is\n",
    "    print(file.read())\n",
    "    print(file.tell()) # after reading the file -> cursor pointer\n",
    "    print(file.read()) # starting reading from last index -> so no output\n",
    "    print(file.tell()) # stays in the same index\n",
    "    \n",
    "   "
   ]
  },
  {
   "cell_type": "code",
   "execution_count": 34,
   "id": "5a018c0d",
   "metadata": {},
   "outputs": [
    {
     "name": "stdout",
     "output_type": "stream",
     "text": [
      "hel\n",
      "3\n",
      "lo\n",
      "5\n"
     ]
    }
   ],
   "source": [
    "with open(\"sample.txt\",\"r\") as file:\n",
    "     # read till index 3\n",
    "    print(file.read(3)) # gives output of index 0,1,2\n",
    "    print(file.tell()) # cursor will be at index 3\n",
    "    \n",
    "    print(file.read()) # starts printing from index 3 to end\n",
    "    print(file.tell()) # last index"
   ]
  },
  {
   "cell_type": "code",
   "execution_count": 40,
   "id": "25e116f7",
   "metadata": {},
   "outputs": [
    {
     "name": "stdout",
     "output_type": "stream",
     "text": [
      "0\n",
      "3\n",
      "0\n",
      "hello\n",
      "5\n"
     ]
    }
   ],
   "source": [
    "# seek\n",
    "with open(\"sample.txt\",\"r\") as file:\n",
    "    print(file.tell())\n",
    "    file.seek(3) # takes the cursor to index 3\n",
    "    print(file.tell()) # at index 3\n",
    "    file.seek(0) # takes the cursor to index 0\n",
    "    print(file.tell()) # at index 0\n",
    "    print(file.read()) # reads till end\n",
    "    print(file.tell())"
   ]
  },
  {
   "cell_type": "markdown",
   "id": "bd6edf55",
   "metadata": {},
   "source": [
    "# File practice problem\n",
    "Get the text from problem.txt and count the following\n",
    "1. Number of Lines\n",
    "2. Number of Words\n",
    "3. Number of characters\n",
    "4. Save it to the counter_of_problem.txt file"
   ]
  },
  {
   "cell_type": "code",
   "execution_count": 68,
   "id": "7911f705",
   "metadata": {},
   "outputs": [
    {
     "name": "stdout",
     "output_type": "stream",
     "text": [
      "['Hello world\\n', 'How are you all?\\n', 'Hope you all are fine!!']\n",
      "['Hello world', 'How are you all?', 'Hope you all are fine!!']\n",
      "Hello world How are you all? Hope you all are fine!!\n",
      "Number of Lines: 3\n",
      "Number of Words: 11\n",
      "Number of Characters: 52\n",
      "\n"
     ]
    }
   ],
   "source": [
    "from pathlib import Path\n",
    "\n",
    "# read file\n",
    "with open(\"problem.txt\", \"r\") as file:\n",
    "    contentList = file.readlines()\n",
    "\n",
    "print(contentList)\n",
    "\n",
    "# number of lines\n",
    "lineCount = len(contentList)\n",
    "\n",
    "# remove newline characters\n",
    "content = [line.strip() for line in contentList]\n",
    "print(content)\n",
    "\n",
    "# join into single string (without adding extra spaces)\n",
    "contentString = \" \".join(content)\n",
    "print(contentString)\n",
    "# character count\n",
    "characterCount = len(contentString)\n",
    "\n",
    "# word count\n",
    "words = contentString.split()   # split by any whitespace\n",
    "wordCount = len(words)\n",
    "\n",
    "# prepare result\n",
    "result = (\n",
    "    f\"Number of Lines: {lineCount}\\n\"\n",
    "    f\"Number of Words: {wordCount}\\n\"\n",
    "    f\"Number of Characters: {characterCount}\\n\"\n",
    ")\n",
    "\n",
    "print(result)\n",
    "\n",
    "# save to counter_of_problem.txt\n",
    "with open(\"counter_of_problem.txt\", \"w\") as f:\n",
    "    f.write(result)\n"
   ]
  },
  {
   "cell_type": "markdown",
   "id": "f5fc41a1",
   "metadata": {},
   "source": [
    "# Exception handling"
   ]
  },
  {
   "cell_type": "code",
   "execution_count": null,
   "id": "f053087e",
   "metadata": {},
   "outputs": [],
   "source": [
    "n = int(input())\n",
    "try:\n",
    "    a = 10/n\n",
    "except ZeroDivisionError:\n",
    "    print(\"you cant divide a number by 0\")\n",
    "    \n",
    "print(\"hello world\")"
   ]
  },
  {
   "cell_type": "code",
   "execution_count": 1,
   "id": "78700bff",
   "metadata": {},
   "outputs": [
    {
     "name": "stdout",
     "output_type": "stream",
     "text": [
      "name 'y' is not defined\n",
      "hello world\n"
     ]
    }
   ],
   "source": [
    "try :\n",
    "    x = y\n",
    "except Exception as e:\n",
    "    print(e)\n",
    "print(\"hello world\")"
   ]
  },
  {
   "cell_type": "code",
   "execution_count": 2,
   "id": "3990d399",
   "metadata": {},
   "outputs": [
    {
     "name": "stdout",
     "output_type": "stream",
     "text": [
      "[Errno 2] No such file or directory: 'work.txt'\n",
      "Gpu is stopped\n"
     ]
    }
   ],
   "source": [
    "try:\n",
    "    file = open(\"work.txt\",\"r\")\n",
    "except Exception as e:\n",
    "    print(e)\n",
    "else:\n",
    "    # model train\n",
    "    print(file.read())\n",
    "finally:\n",
    "    print(\"Gpu is stopped\")"
   ]
  },
  {
   "cell_type": "code",
   "execution_count": null,
   "id": "e0969dc4",
   "metadata": {},
   "outputs": [],
   "source": []
  }
 ],
 "metadata": {
  "kernelspec": {
   "display_name": "dsenv",
   "language": "python",
   "name": "python3"
  },
  "language_info": {
   "codemirror_mode": {
    "name": "ipython",
    "version": 3
   },
   "file_extension": ".py",
   "mimetype": "text/x-python",
   "name": "python",
   "nbconvert_exporter": "python",
   "pygments_lexer": "ipython3",
   "version": "3.11.13"
  }
 },
 "nbformat": 4,
 "nbformat_minor": 5
}
