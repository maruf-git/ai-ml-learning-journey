{
 "cells": [
  {
   "cell_type": "markdown",
   "id": "933dcccd",
   "metadata": {},
   "source": [
    "# Tuples in Python\n",
    "tuple is similar to list but it is not mutable"
   ]
  },
  {
   "cell_type": "code",
   "execution_count": 3,
   "id": "bd3baced",
   "metadata": {},
   "outputs": [
    {
     "name": "stdout",
     "output_type": "stream",
     "text": [
      "<class 'tuple'> (10, 20, 30, 40)\n"
     ]
    }
   ],
   "source": [
    "tup = (10,20,30,40)\n",
    "print(type(tup),tup)\n",
    "\n",
    "\n",
    "# we can not  append in tuple and can not assign new value to any index\n",
    "# tup.append(50)\n",
    "# print(tup)"
   ]
  },
  {
   "cell_type": "code",
   "execution_count": 4,
   "id": "e48d9833",
   "metadata": {},
   "outputs": [
    {
     "name": "stdout",
     "output_type": "stream",
     "text": [
      "(10,) <class 'tuple'>\n"
     ]
    }
   ],
   "source": [
    "tup1 = (10,)\n",
    "print(tup1, type(tup1))"
   ]
  },
  {
   "cell_type": "markdown",
   "id": "7201bc3e",
   "metadata": {},
   "source": [
    "## Tuple Methods"
   ]
  },
  {
   "cell_type": "code",
   "execution_count": 5,
   "id": "b3910058",
   "metadata": {},
   "outputs": [
    {
     "name": "stdout",
     "output_type": "stream",
     "text": [
      "1\n"
     ]
    }
   ],
   "source": [
    "print(tup.count(10))"
   ]
  },
  {
   "cell_type": "code",
   "execution_count": 6,
   "id": "a0a63cfc",
   "metadata": {},
   "outputs": [
    {
     "name": "stdout",
     "output_type": "stream",
     "text": [
      "2\n"
     ]
    }
   ],
   "source": [
    "print(tup.index(30))"
   ]
  },
  {
   "cell_type": "markdown",
   "id": "2f6470a5",
   "metadata": {},
   "source": [
    "# Sets in Python\n",
    "stores unique elements, mutable , unordered so no indexing and slicing"
   ]
  },
  {
   "cell_type": "code",
   "execution_count": 27,
   "id": "f315ad7e",
   "metadata": {},
   "outputs": [
    {
     "name": "stdout",
     "output_type": "stream",
     "text": [
      "{1, 2, 3} <class 'set'>\n"
     ]
    }
   ],
   "source": [
    "s = {1,2,3}\n",
    "print(s, type(s))"
   ]
  },
  {
   "cell_type": "code",
   "execution_count": 28,
   "id": "fe71ecfb",
   "metadata": {},
   "outputs": [
    {
     "name": "stdout",
     "output_type": "stream",
     "text": [
      "<class 'list'>\n",
      "<class 'tuple'>\n",
      "<class 'dict'>\n",
      "<class 'set'>\n"
     ]
    }
   ],
   "source": [
    "s = [] #list\n",
    "print(type(s))\n",
    "\n",
    "s = () #tuple\n",
    "print(type(s))\n",
    "\n",
    "s = {} # dict\n",
    "print(type(s))\n",
    "\n",
    "# empty set\n",
    "# s = set({}) # or\n",
    "s = set() # or\n",
    "print(type(s))"
   ]
  },
  {
   "cell_type": "code",
   "execution_count": 29,
   "id": "aae764b4",
   "metadata": {},
   "outputs": [
    {
     "name": "stdout",
     "output_type": "stream",
     "text": [
      "{1, 2, 3, 4, 5}\n",
      "3 is present\n"
     ]
    }
   ],
   "source": [
    "s ={1,2,3,4,5,1,2}\n",
    "print(s)\n",
    "\n",
    "if(3 in s):\n",
    "    print(\"3 is present\")\n",
    "else:\n",
    "    print(\"3 is not present\")"
   ]
  },
  {
   "cell_type": "code",
   "execution_count": 30,
   "id": "896f19dd",
   "metadata": {},
   "outputs": [
    {
     "name": "stdout",
     "output_type": "stream",
     "text": [
      "15\n"
     ]
    }
   ],
   "source": [
    "# iterating in set\n",
    "sum=0\n",
    "for element in s:\n",
    "    sum+=element\n",
    "print(sum)"
   ]
  },
  {
   "cell_type": "markdown",
   "id": "3aaeee51",
   "metadata": {},
   "source": [
    "## Set Methods"
   ]
  },
  {
   "cell_type": "code",
   "execution_count": 31,
   "id": "185fce35",
   "metadata": {},
   "outputs": [
    {
     "name": "stdout",
     "output_type": "stream",
     "text": [
      "{1, 2, 3, 4, 5, 10}\n",
      "{0, 1, 2, 3, 4, 5, 10}\n"
     ]
    }
   ],
   "source": [
    "# adding in set\n",
    "s.add(10)\n",
    "print(s)\n",
    "\n",
    "s.add(0)\n",
    "print(s)"
   ]
  },
  {
   "cell_type": "code",
   "execution_count": null,
   "id": "8230c4f1",
   "metadata": {},
   "outputs": [
    {
     "name": "stdout",
     "output_type": "stream",
     "text": [
      "{2, 3, 4, 5}\n",
      "{2, 3, 4, 5}\n"
     ]
    }
   ],
   "source": [
    "# pop\n",
    "s.pop() #removes from the first\n",
    "print(s)\n",
    "\n",
    "# remove element\n",
    "s.remove(10)\n",
    "print(s)"
   ]
  },
  {
   "cell_type": "code",
   "execution_count": 37,
   "id": "87afc3eb",
   "metadata": {},
   "outputs": [
    {
     "name": "stdout",
     "output_type": "stream",
     "text": [
      "{1, 2, 3, 4, 5, 6}\n",
      "{4}\n"
     ]
    }
   ],
   "source": [
    "# union and intersection in set\n",
    "\n",
    "# union\n",
    "a ={1,2,3,4}\n",
    "b={4,5,6}\n",
    "s = a.union(b)\n",
    "print(s)\n",
    "\n",
    "# intersection\n",
    "s = a.intersection(b)\n",
    "print(s)"
   ]
  },
  {
   "cell_type": "code",
   "execution_count": null,
   "id": "baa00b7f",
   "metadata": {},
   "outputs": [
    {
     "name": "stdout",
     "output_type": "stream",
     "text": [
      "False\n"
     ]
    }
   ],
   "source": [
    "# disjoint set check -> no common element in two sets\n",
    "print(a.isdisjoint(b))"
   ]
  },
  {
   "cell_type": "code",
   "execution_count": 42,
   "id": "ac0fca3f",
   "metadata": {},
   "outputs": [
    {
     "name": "stdout",
     "output_type": "stream",
     "text": [
      "False\n",
      "True\n"
     ]
    }
   ],
   "source": [
    "# subset check\n",
    "a = {1,2,3,4,5}\n",
    "b = {3,4}\n",
    "print(a.issubset(b))\n",
    "print(b.issubset(a))"
   ]
  },
  {
   "cell_type": "markdown",
   "id": "8dde9966",
   "metadata": {},
   "source": [
    "# Dictonary\n",
    "mutable, unordered so no indexing and slicing\n",
    "only immutable data types are accepted as keys"
   ]
  },
  {
   "cell_type": "code",
   "execution_count": 44,
   "id": "8b04cec6",
   "metadata": {},
   "outputs": [
    {
     "name": "stdout",
     "output_type": "stream",
     "text": [
      "<class 'dict'>\n"
     ]
    }
   ],
   "source": [
    "dict ={}\n",
    "print(type(dict))"
   ]
  },
  {
   "cell_type": "code",
   "execution_count": 45,
   "id": "758509e3",
   "metadata": {},
   "outputs": [
    {
     "name": "stdout",
     "output_type": "stream",
     "text": [
      "{'name': 'Phitron', 'age': 28, 'address': 'Dhaka', 'numbers': [10, 20, 30]}\n"
     ]
    }
   ],
   "source": [
    "dict ={\n",
    "    \"name\":\"Phitron\",\n",
    "    \"age\":28,\n",
    "    \"address\":\"Dhaka\",\n",
    "    \"numbers\":[10,20,30]\n",
    "}\n",
    "print(dict)"
   ]
  },
  {
   "cell_type": "code",
   "execution_count": 53,
   "id": "332e8f68",
   "metadata": {},
   "outputs": [
    {
     "name": "stdout",
     "output_type": "stream",
     "text": [
      "Phitron AI/ML\n",
      "Dhaka\n",
      "20\n"
     ]
    }
   ],
   "source": [
    "print(dict[\"name\"])\n",
    "print(dict[\"address\"])\n",
    "# or\n",
    "print(dict.get(\"age\")) #better fir error hadling"
   ]
  },
  {
   "cell_type": "code",
   "execution_count": 54,
   "id": "6ecd89a3",
   "metadata": {},
   "outputs": [
    {
     "name": "stdout",
     "output_type": "stream",
     "text": [
      "{'name': 'Phitron AI/ML', 'age': 20, 'address': 'Dhaka', 'numbers': [10, 20, 30]}\n"
     ]
    }
   ],
   "source": [
    "dict[\"name\"] = \"Phitron AI/ML\"\n",
    "print(dict)"
   ]
  },
  {
   "cell_type": "code",
   "execution_count": 55,
   "id": "a1c0e0e4",
   "metadata": {},
   "outputs": [
    {
     "name": "stdout",
     "output_type": "stream",
     "text": [
      "{'name': 'Phitron AI/ML', 'age': 20, 'address': 'Dhaka', 'numbers': [10, 20, 30]}\n"
     ]
    }
   ],
   "source": [
    "dict[\"age\"]=20\n",
    "print(dict)"
   ]
  },
  {
   "cell_type": "markdown",
   "id": "e15b0864",
   "metadata": {},
   "source": [
    "## Dictionary Methods"
   ]
  },
  {
   "cell_type": "code",
   "execution_count": 56,
   "id": "4c929c15",
   "metadata": {},
   "outputs": [
    {
     "name": "stdout",
     "output_type": "stream",
     "text": [
      "{'name': 'Phitron AI/ML', 'age': 20, 'address': 'Dhaka', 'numbers': [10, 20, 30]}\n"
     ]
    }
   ],
   "source": [
    "print(dict)"
   ]
  },
  {
   "cell_type": "code",
   "execution_count": 58,
   "id": "17b1d046",
   "metadata": {},
   "outputs": [
    {
     "name": "stdout",
     "output_type": "stream",
     "text": [
      "None\n",
      "0\n"
     ]
    }
   ],
   "source": [
    "print(dict.get(\"math_marks\")) # dictionary te ei key nai tai None asbe\n",
    "print(dict.get(\"math_marks\",0)) # na paile default value 0 set kore dibe"
   ]
  },
  {
   "cell_type": "code",
   "execution_count": 69,
   "id": "3228bd6a",
   "metadata": {},
   "outputs": [
    {
     "name": "stdout",
     "output_type": "stream",
     "text": [
      "{'name': 'Phitron AI/ML', 'age': 20, 'address': 'Dhaka', 'numbers': [10, 20, 30], 'english_marks': 40}\n"
     ]
    }
   ],
   "source": [
    "dict.update({\"english_marks\":40})\n",
    "print(dict)"
   ]
  },
  {
   "cell_type": "code",
   "execution_count": 70,
   "id": "38e5b82c",
   "metadata": {},
   "outputs": [
    {
     "name": "stdout",
     "output_type": "stream",
     "text": [
      "{'name': 'Phitron AI/ML', 'address': 'Dhaka', 'numbers': [10, 20, 30]}\n"
     ]
    }
   ],
   "source": [
    "# removing key in dictonary\n",
    "del dict[\"english_marks\"]\n",
    "dict.pop(\"age\")\n",
    "\n",
    "print(dict)"
   ]
  },
  {
   "cell_type": "code",
   "execution_count": 71,
   "id": "3531fbfc",
   "metadata": {},
   "outputs": [
    {
     "name": "stdout",
     "output_type": "stream",
     "text": [
      "{'name': 'Phitron AI/ML', 'address': 'Dhaka', 'numbers': [10, 20, 30]}\n"
     ]
    }
   ],
   "source": [
    "dict2 = dict.copy()\n",
    "print(dict2)"
   ]
  },
  {
   "cell_type": "markdown",
   "id": "baa54054",
   "metadata": {},
   "source": [
    "## Dictonary View Methods\n",
    "changes in real time\n",
    "\n",
    "keys, values, items"
   ]
  },
  {
   "cell_type": "code",
   "execution_count": null,
   "id": "b4c7c881",
   "metadata": {},
   "outputs": [
    {
     "name": "stdout",
     "output_type": "stream",
     "text": [
      "dict_keys(['name', 'address', 'numbers'])\n"
     ]
    }
   ],
   "source": [
    "# keys\n",
    "keys = dict.keys()\n",
    "print(keys)"
   ]
  },
  {
   "cell_type": "code",
   "execution_count": 73,
   "id": "98a1cdfc",
   "metadata": {},
   "outputs": [
    {
     "name": "stdout",
     "output_type": "stream",
     "text": [
      "dict_keys(['name', 'address', 'numbers', 'math_number'])\n"
     ]
    }
   ],
   "source": [
    "dict[\"math_number\"]=30\n",
    "print(keys)"
   ]
  },
  {
   "cell_type": "code",
   "execution_count": 74,
   "id": "4f1dafb7",
   "metadata": {},
   "outputs": [
    {
     "name": "stdout",
     "output_type": "stream",
     "text": [
      "dict_values(['Phitron AI/ML', 'Dhaka', [10, 20, 30], 30])\n"
     ]
    }
   ],
   "source": [
    "# values\n",
    "values = dict.values()\n",
    "print(values)"
   ]
  },
  {
   "cell_type": "code",
   "execution_count": 76,
   "id": "2bd8f2d3",
   "metadata": {},
   "outputs": [
    {
     "name": "stdout",
     "output_type": "stream",
     "text": [
      "dict_keys(['name', 'address', 'numbers', 'math_number', 'eng_mark'])\n",
      "dict_values(['Phitron AI/ML', 'Dhaka', [10, 20, 30], 30, 50])\n"
     ]
    }
   ],
   "source": [
    "dict[\"eng_mark\"] = 50\n",
    "print(keys)\n",
    "print(values)"
   ]
  },
  {
   "cell_type": "code",
   "execution_count": 77,
   "id": "2f9c1ed5",
   "metadata": {},
   "outputs": [
    {
     "name": "stdout",
     "output_type": "stream",
     "text": [
      "dict_items([('name', 'Phitron AI/ML'), ('address', 'Dhaka'), ('numbers', [10, 20, 30]), ('math_number', 30), ('eng_mark', 50)])\n"
     ]
    }
   ],
   "source": [
    "# items\n",
    "items = dict.items()\n",
    "print(items)"
   ]
  },
  {
   "cell_type": "code",
   "execution_count": null,
   "id": "5910cfc0",
   "metadata": {},
   "outputs": [
    {
     "name": "stdout",
     "output_type": "stream",
     "text": [
      "dict_keys(['name', 'address', 'numbers', 'math_number', 'eng_mark', 'bangla_marks'])\n",
      "dict_values(['Phitron AI/ML', 'Dhaka', [10, 20, 30], 30, 50, 100])\n",
      "dict_items([('name', 'Phitron AI/ML'), ('address', 'Dhaka'), ('numbers', [10, 20, 30]), ('math_number', 30), ('eng_mark', 50), ('bangla_marks', 100)])\n"
     ]
    }
   ],
   "source": [
    "dict[\"bangla_marks\"] = 100\n",
    "print(keys)\n",
    "print(values)\n",
    "print(items) # return ke,value tuples of list"
   ]
  },
  {
   "cell_type": "code",
   "execution_count": 81,
   "id": "612b9ad9",
   "metadata": {},
   "outputs": [
    {
     "name": "stdout",
     "output_type": "stream",
     "text": [
      "name Phitron AI/ML\n",
      "address Dhaka\n",
      "numbers [10, 20, 30]\n",
      "math_number 30\n",
      "eng_mark 50\n",
      "bangla_marks 100\n"
     ]
    }
   ],
   "source": [
    "# iteration\n",
    "# for key, value in dict: #does not work\n",
    "#     print(key,value)\n",
    "\n",
    "for key, value in dict.items():\n",
    "    print(key,value)"
   ]
  },
  {
   "cell_type": "markdown",
   "id": "93dbfc85",
   "metadata": {},
   "source": [
    "## Dictionary Comprehenssion"
   ]
  },
  {
   "cell_type": "code",
   "execution_count": 83,
   "id": "3d41f23d",
   "metadata": {},
   "outputs": [
    {
     "name": "stdout",
     "output_type": "stream",
     "text": [
      "{2: 4, 4: 16, 6: 36, 8: 64}\n"
     ]
    }
   ],
   "source": [
    "# syntax\n",
    "# {expression, iterable, condition}\n",
    "# expression will be like key:value\n",
    "square = {x:x**2 for x in range(1,10) if x%2==0}\n",
    "print(square)"
   ]
  },
  {
   "cell_type": "code",
   "execution_count": 86,
   "id": "6f00ed57",
   "metadata": {},
   "outputs": [
    {
     "name": "stdout",
     "output_type": "stream",
     "text": [
      "{10: 'dhaka', 20: 'rangpur', 30: 'khulna'}\n"
     ]
    }
   ],
   "source": [
    "# another comprehenssion\n",
    "co_ordinates = [10,20,30]\n",
    "locations = [\"dhaka\", \"rangpur\", \"khulna\"]\n",
    "exact_location = {co_or : loc for co_or, loc in zip(co_ordinates, locations)}\n",
    "print(exact_location)"
   ]
  },
  {
   "cell_type": "code",
   "execution_count": null,
   "id": "98634e70",
   "metadata": {},
   "outputs": [],
   "source": []
  },
  {
   "cell_type": "markdown",
   "id": "14c62267",
   "metadata": {},
   "source": [
    "# Module Problem Solve"
   ]
  },
  {
   "cell_type": "markdown",
   "id": "da4aa347",
   "metadata": {},
   "source": [
    "## 1. Given a list of numbers. Make a list with unique values.\n",
    "list = [10,20,10,30,30,50,30]"
   ]
  },
  {
   "cell_type": "code",
   "execution_count": 91,
   "id": "d746d4d7",
   "metadata": {},
   "outputs": [
    {
     "name": "stdout",
     "output_type": "stream",
     "text": [
      "{10, 20, 50, 30} <class 'set'>\n",
      "[{10, 20, 50, 30}] <class 'list'>\n"
     ]
    }
   ],
   "source": [
    "list = [10,20,10,30,30,50,30]\n",
    "unique_set = {x for x in list}\n",
    "print(unique_set,type(unique_set))\n",
    "unique_list = [unique_set]\n",
    "print(unique_list,type(unique_list))"
   ]
  },
  {
   "cell_type": "markdown",
   "id": "50329f5c",
   "metadata": {},
   "source": [
    "## Given a string, print the frequency of the words\n",
    "apple banana apple orange banana apple"
   ]
  },
  {
   "cell_type": "code",
   "execution_count": 102,
   "id": "ff24b5c9",
   "metadata": {},
   "outputs": [
    {
     "name": "stdout",
     "output_type": "stream",
     "text": [
      "{'apple': 3, 'banana': 2, 'orange': 1}\n",
      "<class 'dict'>\n",
      "count of apple is 3\n",
      "count of banana is 2\n",
      "count of orange is 1\n"
     ]
    }
   ],
   "source": [
    "string = \"apple banana apple orange banana apple\"\n",
    "string_arr = string.split()\n",
    "word_frequency = {word:string_arr.count(word) for word in string_arr}\n",
    "print(word_frequency)\n",
    "print(type(word_frequency))\n",
    "\n",
    "for k,v in word_frequency.items():\n",
    "    print(f\"count of {k} is {v}\")"
   ]
  },
  {
   "cell_type": "code",
   "execution_count": null,
   "id": "4d8a97cf",
   "metadata": {},
   "outputs": [],
   "source": []
  }
 ],
 "metadata": {
  "kernelspec": {
   "display_name": "dsenv",
   "language": "python",
   "name": "python3"
  },
  "language_info": {
   "codemirror_mode": {
    "name": "ipython",
    "version": 3
   },
   "file_extension": ".py",
   "mimetype": "text/x-python",
   "name": "python",
   "nbconvert_exporter": "python",
   "pygments_lexer": "ipython3",
   "version": "3.11.13"
  }
 },
 "nbformat": 4,
 "nbformat_minor": 5
}
