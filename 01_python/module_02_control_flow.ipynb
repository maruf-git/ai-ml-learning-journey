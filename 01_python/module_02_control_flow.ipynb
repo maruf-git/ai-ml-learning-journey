{
 "cells": [
  {
   "cell_type": "markdown",
   "id": "efeed1bf",
   "metadata": {},
   "source": [
    "# Conditional Statements in Python"
   ]
  },
  {
   "cell_type": "code",
   "execution_count": 2,
   "id": "69a53839",
   "metadata": {},
   "outputs": [
    {
     "name": "stdout",
     "output_type": "stream",
     "text": [
      "Rain coat is necessary\n",
      "Bring Shoes\n"
     ]
    }
   ],
   "source": [
    "raining = True\n",
    "muddy = True\n",
    "if raining:\n",
    "        print(\"Rain coat is necessary\")\n",
    "        if muddy:\n",
    "            print(\"Bring Shoes\")\n",
    "        else:\n",
    "            print(\"Bring Sandal\")\n",
    "else:\n",
    "    print(\"Go without a rain coat\")\n",
    "    print(\"This is a sunny day\")"
   ]
  },
  {
   "cell_type": "code",
   "execution_count": 15,
   "id": "af612b75",
   "metadata": {},
   "outputs": [
    {
     "name": "stdout",
     "output_type": "stream",
     "text": [
      "Go for movie\n"
     ]
    }
   ],
   "source": [
    "dollar = 350\n",
    "raining = False\n",
    "\n",
    "if dollar > 500 and raining == False:\n",
    "    print(\"Go for Travel\")\n",
    "elif dollar > 400 and raining == True:\n",
    "    print(\"Go for Dinner\")\n",
    "elif dollar > 300 and raining == False:\n",
    "    print(\"Go for movie\")\n",
    "else:\n",
    "    print(\"Save the money\")"
   ]
  },
  {
   "cell_type": "markdown",
   "id": "c7f92a95",
   "metadata": {},
   "source": [
    "# Loop in Python"
   ]
  },
  {
   "cell_type": "code",
   "execution_count": 35,
   "id": "d1523dbc",
   "metadata": {},
   "outputs": [
    {
     "name": "stdout",
     "output_type": "stream",
     "text": [
      "<class 'int'> <class 'type'>\n",
      "<class 'range'> <class 'type'>\n",
      "range(0, 10) <class 'range'>\n",
      "[0, 1, 2, 3, 4, 5, 6, 7, 8, 9] <class 'list'>\n",
      "cheking range working method:\n",
      "[0, 1, 2, 3, 4, 5, 6, 7, 8, 9, 10]\n",
      "[1, 2, 3, 4, 5, 6, 7, 8, 9, 10]\n",
      "[1, 3, 5, 7, 9]\n",
      "\n",
      "0\n",
      "1\n",
      "2\n",
      "3\n",
      "4\n",
      "5\n",
      "6\n",
      "7\n",
      "8\n",
      "9\n",
      "loop with nexting\n",
      "1 1\n",
      "1 3\n",
      "2 1\n",
      "2 3\n",
      "3 1\n",
      "3 3\n",
      "4 1\n",
      "4 3\n"
     ]
    }
   ],
   "source": [
    "print(int,type(int))\n",
    "print(range,type(range))\n",
    "print(range(10), type(range(10)))\n",
    "print(list(range(10)), type(list(range(10))))\n",
    "\n",
    "# range(start, end, step)\n",
    "print(\"cheking range working method:\")\n",
    "print(list(range(11)))\n",
    "print(list(range(1,11)))\n",
    "print(list(range(1,11,2)))\n",
    "\n",
    "print()\n",
    "\n",
    "# for loop\n",
    "for i in range(10):\n",
    "    print(i)\n",
    "\n",
    "print(\"loop with nexting\")\n",
    "for i in range(1,5):\n",
    "    for j in range(1, 5, 2):\n",
    "        print(i,j)"
   ]
  },
  {
   "cell_type": "code",
   "execution_count": 37,
   "id": "8a626249",
   "metadata": {},
   "outputs": [
    {
     "name": "stdout",
     "output_type": "stream",
     "text": [
      "1 hello world\n",
      "2 hello world\n",
      "3 hello world\n",
      "4 hello world\n",
      "5 hello world\n",
      "6 hello world\n",
      "7 hello world\n",
      "8 hello world\n",
      "9 hello world\n"
     ]
    }
   ],
   "source": [
    "# while loop in python\n",
    "\n",
    "# same as c and c++\n",
    "# while(condition):\n",
    "#     statement\n",
    "#     increment/decrement\n",
    "\n",
    "count=1\n",
    "while count<10:\n",
    "    print(count,\"hello world\")\n",
    "    count +=1"
   ]
  },
  {
   "cell_type": "markdown",
   "id": "b1e3cf8c",
   "metadata": {},
   "source": [
    "# Break and Continue"
   ]
  },
  {
   "cell_type": "code",
   "execution_count": 40,
   "id": "da4345a2",
   "metadata": {},
   "outputs": [
    {
     "name": "stdout",
     "output_type": "stream",
     "text": [
      "1 added :  1\n",
      "4 added :  3\n",
      "9 added :  5\n",
      "16 added :  7\n",
      "25 added :  9\n"
     ]
    }
   ],
   "source": [
    "# add only odd numbers\n",
    "sum = 0\n",
    "for i in range(1,11):\n",
    "    if(i%2 == 0):\n",
    "        continue\n",
    "    sum+=i\n",
    "    print(sum, \"added : \",i)\n",
    "    \n",
    "# break is also same as c and c++"
   ]
  },
  {
   "cell_type": "code",
   "execution_count": null,
   "id": "2eca76f6",
   "metadata": {},
   "outputs": [],
   "source": []
  }
 ],
 "metadata": {
  "kernelspec": {
   "display_name": "dsenv",
   "language": "python",
   "name": "python3"
  },
  "language_info": {
   "codemirror_mode": {
    "name": "ipython",
    "version": 3
   },
   "file_extension": ".py",
   "mimetype": "text/x-python",
   "name": "python",
   "nbconvert_exporter": "python",
   "pygments_lexer": "ipython3",
   "version": "3.11.13"
  }
 },
 "nbformat": 4,
 "nbformat_minor": 5
}
