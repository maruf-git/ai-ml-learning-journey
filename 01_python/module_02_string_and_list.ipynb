{
 "cells": [
  {
   "cell_type": "markdown",
   "id": "547092aa",
   "metadata": {},
   "source": [
    "# String in Python\n",
    "strings are immutable"
   ]
  },
  {
   "cell_type": "code",
   "execution_count": 2,
   "id": "022229d6",
   "metadata": {},
   "outputs": [
    {
     "name": "stdout",
     "output_type": "stream",
     "text": [
      "what is your name\n",
      "<class 'str'>\n"
     ]
    }
   ],
   "source": [
    "prompt = \"what is your name\"\n",
    "print(prompt)\n",
    "print(type(prompt))"
   ]
  },
  {
   "cell_type": "code",
   "execution_count": 3,
   "id": "874e8345",
   "metadata": {},
   "outputs": [
    {
     "name": "stdout",
     "output_type": "stream",
     "text": [
      "tell me about yourself.\n",
      "what are the issues you've been facing\n",
      "while learning python?\n",
      "\n",
      "<class 'str'>\n"
     ]
    }
   ],
   "source": [
    "# multiline string\n",
    "message = \"\"\"tell me about yourself.\n",
    "what are the issues you've been facing\n",
    "while learning python?\n",
    "\"\"\"\n",
    "print(message)\n",
    "print(type(message))"
   ]
  },
  {
   "cell_type": "markdown",
   "id": "2cc3f5c0",
   "metadata": {},
   "source": [
    "## Indexing and Slicing in Python String"
   ]
  },
  {
   "cell_type": "code",
   "execution_count": 9,
   "id": "8715a0b9",
   "metadata": {},
   "outputs": [
    {
     "name": "stdout",
     "output_type": "stream",
     "text": [
      "Hello\n",
      "H\n",
      "d\n"
     ]
    }
   ],
   "source": [
    "string = \"Hello World\"\n",
    "# slice\n",
    "# string[start: end: step] -> default step is 1\n",
    "print(string[0:5])\n",
    "print(string[0])\n",
    "print(string[-1])"
   ]
  },
  {
   "cell_type": "markdown",
   "id": "62ae17a3",
   "metadata": {},
   "source": [
    "## String Methods in Python"
   ]
  },
  {
   "cell_type": "code",
   "execution_count": 26,
   "id": "26211b77",
   "metadata": {},
   "outputs": [
    {
     "name": "stdout",
     "output_type": "stream",
     "text": [
      "53\n",
      "True\n",
      "True\n",
      "welcome to phitron ml course. phitron will start soon\n",
      "Welcome to phitron ml course. phitron will start soon\n",
      "Find string with its index\n",
      "11\n",
      "Reverse Find string with its index\n",
      "30\n",
      "Substring count \n",
      "2\n",
      "replacee any substring\n",
      "Welcome to Phitron AI/ML Course. phitron will start soon\n"
     ]
    }
   ],
   "source": [
    "string = \"Welcome to Phitron ML Course. phitron will start soon\"\n",
    "\n",
    "# length()\n",
    "print(len(string))\n",
    "\n",
    "# in operator ->for checking any character or word in the string\n",
    "print(\"Phitron\" in string)\n",
    "print(\"p\" in string)\n",
    "\n",
    "# lower() and upper()\n",
    "processed_string = string.lower()\n",
    "print(processed_string)\n",
    "\n",
    "# capitalize() -> capitalize the first character of the string\n",
    "processed_string = processed_string.capitalize()\n",
    "print(processed_string)\n",
    "\n",
    "# find() method for getting the matched string index -. if not found returns -1\n",
    "print(\"Find string with its index\")\n",
    "index = processed_string.find(\"phitron\")\n",
    "print(index)\n",
    "\n",
    "# rfind() method -> finding from the end\n",
    "print(\"Reverse Find string with its index\")\n",
    "index = processed_string.rfind(\"phitron\")\n",
    "print(index)\n",
    "\n",
    "\n",
    "# count() method -> we can use it for substring count \n",
    "print(\"Substring count \")\n",
    "count = processed_string.count(\"phitron\")\n",
    "print(count)\n",
    "\n",
    "# replace() method-> for replacing a substring\n",
    "print(\"replacee any substring\")\n",
    "string = string.replace(\"ML\", \"AI/ML\")\n",
    "print(string)\n"
   ]
  },
  {
   "cell_type": "code",
   "execution_count": null,
   "id": "5fe7704e",
   "metadata": {},
   "outputs": [],
   "source": []
  },
  {
   "cell_type": "markdown",
   "id": "6c13ab05",
   "metadata": {},
   "source": [
    "## String Splitting, Joining, Formatting"
   ]
  },
  {
   "cell_type": "code",
   "execution_count": 6,
   "id": "c9f750ef",
   "metadata": {},
   "outputs": [
    {
     "name": "stdout",
     "output_type": "stream",
     "text": [
      "['what', 'is', 'phitron']\n",
      "['what', 'is', 'phitron']\n",
      "what-is-phitron\n",
      "what is phitron\n"
     ]
    }
   ],
   "source": [
    "# spliting\n",
    "prompt = \"what is phitron\"\n",
    "tokens = prompt.split()\n",
    "print(tokens)\n",
    "\n",
    "prompt = \"what-is-phitron\"\n",
    "tokens =  prompt.split(\"-\")\n",
    "print(tokens)\n",
    "\n",
    "# after processing the tokens\n",
    "# join the to actual\n",
    "\n",
    "sentence = \"-\".join(tokens)\n",
    "print(sentence)\n",
    "\n",
    "sentence = \" \".join(tokens)\n",
    "print(sentence)"
   ]
  },
  {
   "cell_type": "code",
   "execution_count": 18,
   "id": "8f0d3cad",
   "metadata": {},
   "outputs": [
    {
     "name": "stdout",
     "output_type": "stream",
     "text": [
      "His name is ADIL. He is 23 years old. He is 5.12 feet tall.\n",
      "\n",
      "The model accuracy is 83.33%\n"
     ]
    }
   ],
   "source": [
    "# formatted string\n",
    "name = \"Adil\"\n",
    "age = 23\n",
    "height = 5.1195403\n",
    "print(f\"His name is {name.upper()}. He is 23 years old. He is {height:.3} feet tall.\\n\")\n",
    "\n",
    "model_accuracy = 0.83333\n",
    "print(f\"The model accuracy is {model_accuracy:.2%}\")\n"
   ]
  },
  {
   "cell_type": "code",
   "execution_count": null,
   "id": "f76382de",
   "metadata": {},
   "outputs": [],
   "source": []
  },
  {
   "cell_type": "markdown",
   "id": "fb568739",
   "metadata": {},
   "source": [
    "# Python List\n",
    "lists are mutable"
   ]
  },
  {
   "cell_type": "code",
   "execution_count": 22,
   "id": "da8c6512",
   "metadata": {},
   "outputs": [
    {
     "name": "stdout",
     "output_type": "stream",
     "text": [
      "[100, 20, 30, 40, 50]\n",
      "[100, 20, 30]\n"
     ]
    }
   ],
   "source": [
    "numbers = [100,20,30,40,50]\n",
    "print(numbers)\n",
    "\n",
    "new_list = numbers[0:3] #applyiing splicing\n",
    "print(new_list)"
   ]
  },
  {
   "cell_type": "code",
   "execution_count": null,
   "id": "1d9d2e27",
   "metadata": {},
   "outputs": [
    {
     "name": "stdout",
     "output_type": "stream",
     "text": [
      "[45, 45, 100, 20, 30, 40, 50, 80, 80, 80, 80]\n",
      "[45, 45, 45, 100, 20, 30, 40, 50, 80, 80, 80, 80]\n"
     ]
    },
    {
     "data": {
      "text/plain": [
       "80"
      ]
     },
     "execution_count": 26,
     "metadata": {},
     "output_type": "execute_result"
    }
   ],
   "source": [
    "# append item in the list\n",
    "numbers.append(80)\n",
    "print(numbers)\n",
    "\n",
    "# insertion at any position\n",
    "# insert item in the list\n",
    "# insert(index,element)\n",
    "numbers.insert(0,45)\n",
    "print(numbers)\n",
    "\n"
   ]
  },
  {
   "cell_type": "code",
   "execution_count": 28,
   "id": "bada5464",
   "metadata": {},
   "outputs": [
    {
     "name": "stdout",
     "output_type": "stream",
     "text": [
      "[45, 45, 45, 100, 20, 30, 40, 50, 80]\n"
     ]
    }
   ],
   "source": [
    "# delete from end\n",
    "numbers.pop()\n",
    "print(numbers)"
   ]
  },
  {
   "cell_type": "code",
   "execution_count": 30,
   "id": "ce81ed74",
   "metadata": {},
   "outputs": [
    {
     "name": "stdout",
     "output_type": "stream",
     "text": [
      "[45, 45, 100, 20, 30, 40, 50]\n"
     ]
    }
   ],
   "source": [
    "# delete a specific value\n",
    "numbers.remove(45)\n",
    "print(numbers)"
   ]
  },
  {
   "cell_type": "code",
   "execution_count": 31,
   "id": "cceab000",
   "metadata": {},
   "outputs": [
    {
     "name": "stdout",
     "output_type": "stream",
     "text": [
      "[20, 30, 40, 45, 45, 50, 100]\n"
     ]
    }
   ],
   "source": [
    "# sorting list\n",
    "numbers.sort()\n",
    "print(numbers)"
   ]
  },
  {
   "cell_type": "code",
   "execution_count": 33,
   "id": "2f37dc42",
   "metadata": {},
   "outputs": [
    {
     "name": "stdout",
     "output_type": "stream",
     "text": [
      "[100, 50, 45, 45, 40, 30, 20]\n"
     ]
    }
   ],
   "source": [
    "# sorting in descending order\n",
    "numbers.sort(reverse = True)\n",
    "print(numbers)"
   ]
  },
  {
   "cell_type": "markdown",
   "id": "4e70da97",
   "metadata": {},
   "source": [
    "## List as Stack"
   ]
  },
  {
   "cell_type": "code",
   "execution_count": null,
   "id": "06e61e07",
   "metadata": {},
   "outputs": [
    {
     "name": "stdout",
     "output_type": "stream",
     "text": [
      "<class 'list'>\n",
      "[1, 2, 3, 4, 5]\n",
      "5\n",
      "[1, 2, 3, 4]\n"
     ]
    }
   ],
   "source": [
    "stack =[]\n",
    "print(type(stack))\n",
    "\n",
    "# push in stack\n",
    "stack.append(1)\n",
    "stack.append(2)\n",
    "stack.append(3)\n",
    "stack.append(4)\n",
    "stack.append(5)\n",
    "print(stack)\n",
    "\n",
    "# removing the top element\n",
    "# pop in stack\n",
    "print(stack.pop())\n",
    "print(stack)"
   ]
  },
  {
   "cell_type": "code",
   "execution_count": 51,
   "id": "e77b38b5",
   "metadata": {},
   "outputs": [
    {
     "name": "stdout",
     "output_type": "stream",
     "text": [
      "top element: 4\n"
     ]
    }
   ],
   "source": [
    "# top element\n",
    "print(f\"top element: {stack[-1]}\")"
   ]
  },
  {
   "cell_type": "markdown",
   "id": "5b42cece",
   "metadata": {},
   "source": [
    "## List as Queue"
   ]
  },
  {
   "cell_type": "code",
   "execution_count": 70,
   "id": "40413d6d",
   "metadata": {},
   "outputs": [
    {
     "name": "stdout",
     "output_type": "stream",
     "text": [
      "<class 'list'>\n"
     ]
    }
   ],
   "source": [
    "queue = []\n",
    "print(type(queue))"
   ]
  },
  {
   "cell_type": "code",
   "execution_count": 71,
   "id": "3fab7e9a",
   "metadata": {},
   "outputs": [
    {
     "name": "stdout",
     "output_type": "stream",
     "text": [
      "[1, 2, 3, 4, 5, 6]\n"
     ]
    }
   ],
   "source": [
    "# push in queue\n",
    "queue.append(1)\n",
    "queue.append(2)\n",
    "queue.append(3)\n",
    "queue.append(4)\n",
    "queue.append(5)\n",
    "queue.append(6)\n",
    "print(queue)"
   ]
  },
  {
   "cell_type": "code",
   "execution_count": 72,
   "id": "e10d5d6d",
   "metadata": {},
   "outputs": [
    {
     "name": "stdout",
     "output_type": "stream",
     "text": [
      "1\n",
      "[2, 3, 4, 5, 6]\n"
     ]
    }
   ],
   "source": [
    "# remove from queue\n",
    "# print(queue.pop(index))\n",
    "print(queue.pop(0))\n",
    "print(queue)"
   ]
  },
  {
   "cell_type": "code",
   "execution_count": 73,
   "id": "c6231c7d",
   "metadata": {},
   "outputs": [
    {
     "name": "stdout",
     "output_type": "stream",
     "text": [
      "2\n",
      "[3, 4, 5, 6]\n"
     ]
    }
   ],
   "source": [
    "print(queue.pop(0))\n",
    "print(queue)"
   ]
  },
  {
   "cell_type": "code",
   "execution_count": 74,
   "id": "58d9c418",
   "metadata": {},
   "outputs": [
    {
     "name": "stdout",
     "output_type": "stream",
     "text": [
      "3\n",
      "[4, 5, 6]\n"
     ]
    }
   ],
   "source": [
    "print(queue.pop(0))\n",
    "print(queue)"
   ]
  },
  {
   "cell_type": "code",
   "execution_count": 75,
   "id": "4c2d1ecf",
   "metadata": {},
   "outputs": [
    {
     "name": "stdout",
     "output_type": "stream",
     "text": [
      "front element: 4\n"
     ]
    }
   ],
   "source": [
    "# accessing the front element\n",
    "print(f\"front element: {queue[0]}\")"
   ]
  },
  {
   "cell_type": "code",
   "execution_count": 76,
   "id": "a24a6b3c",
   "metadata": {},
   "outputs": [
    {
     "name": "stdout",
     "output_type": "stream",
     "text": [
      "[5, 6]\n",
      "front element: 5\n"
     ]
    }
   ],
   "source": [
    "queue.pop(0)\n",
    "print(queue)\n",
    "print(f\"front element: {queue[0]}\")"
   ]
  },
  {
   "cell_type": "markdown",
   "id": "2734d33b",
   "metadata": {},
   "source": [
    "## List Comprehession in Python"
   ]
  },
  {
   "cell_type": "code",
   "execution_count": 77,
   "id": "cf8f5937",
   "metadata": {},
   "outputs": [
    {
     "name": "stdout",
     "output_type": "stream",
     "text": [
      "[0, 2, 4, 6, 8, 10, 12, 14, 16, 18, 20, 22, 24, 26, 28, 30, 32, 34, 36, 38, 40, 42, 44, 46, 48, 50, 52, 54, 56, 58, 60, 62, 64, 66, 68, 70, 72, 74, 76, 78, 80, 82, 84, 86, 88, 90, 92, 94, 96, 98]\n"
     ]
    }
   ],
   "source": [
    "even = []\n",
    "for i in range(100):\n",
    "    if i%2==0:\n",
    "        even.append(i)\n",
    "print(even)"
   ]
  },
  {
   "cell_type": "code",
   "execution_count": 83,
   "id": "ebda44a1",
   "metadata": {},
   "outputs": [
    {
     "name": "stdout",
     "output_type": "stream",
     "text": [
      "[0, 1, 2, 3, 4, 5, 6, 7, 8, 9]\n",
      "[0, 2, 4, 6, 8, 10, 12, 14, 16, 18]\n",
      "[0, 4, 8, 12, 16]\n"
     ]
    }
   ],
   "source": [
    "# same work using list comprehession\n",
    "# list comprehenssion syntax\n",
    "# [expression for i in range() condition]\n",
    "\n",
    "random_list = [x for x in range(10)]\n",
    "print(random_list)\n",
    "random_list = [x*2 for x in range(10)]\n",
    "print(random_list)\n",
    "random_list = [x*2 for x in range(10) if x%2==0]\n",
    "print(random_list)"
   ]
  },
  {
   "cell_type": "markdown",
   "id": "b7be2839",
   "metadata": {},
   "source": [
    "### List Comprehenssion with List of String"
   ]
  },
  {
   "cell_type": "code",
   "execution_count": 87,
   "id": "4d662ad1",
   "metadata": {},
   "outputs": [
    {
     "name": "stdout",
     "output_type": "stream",
     "text": [
      "['apple', 'orange', 'litchi']\n",
      "['Apple', 'Orange', 'Litchi']\n"
     ]
    }
   ],
   "source": [
    "fruits = [\"apple\", \"orange\", \"litchi\"]\n",
    "print(fruits)\n",
    "\n",
    "capitalize_fruits = []\n",
    "# for fruit in fruits:\n",
    "#     capitalize_fruits.append(fruit.capitalize())\n",
    "# print(capitalize_fruits)\n",
    "\n",
    "# same work using list comprehession\n",
    "capitalize_fruits=[fruit.capitalize() for fruit in fruits]\n",
    "print(capitalize_fruits)"
   ]
  },
  {
   "cell_type": "code",
   "execution_count": 91,
   "id": "ccc1aa51",
   "metadata": {},
   "outputs": [
    {
     "name": "stdout",
     "output_type": "stream",
     "text": [
      "loo\n"
     ]
    }
   ],
   "source": [
    "s = \"HelloWorld\"\n",
    "print(s[2:8:2])"
   ]
  },
  {
   "cell_type": "code",
   "execution_count": 92,
   "id": "a7abffdc",
   "metadata": {},
   "outputs": [
    {
     "name": "stdout",
     "output_type": "stream",
     "text": [
      "2\n"
     ]
    }
   ],
   "source": [
    "text = \"banana bandana\"\n",
    "print(text.count(\"ana\"))"
   ]
  },
  {
   "cell_type": "code",
   "execution_count": 95,
   "id": "f08b7bb7",
   "metadata": {},
   "outputs": [
    {
     "name": "stdout",
     "output_type": "stream",
     "text": [
      "['b', 'c', 'd']\n",
      "['d', 'b']\n"
     ]
    }
   ],
   "source": [
    "letters =['a','b','c','d','e']\n",
    "print(letters[1:4])\n",
    "print(letters[1:4][::-2])"
   ]
  },
  {
   "cell_type": "code",
   "execution_count": null,
   "id": "2387bf96",
   "metadata": {},
   "outputs": [],
   "source": []
  }
 ],
 "metadata": {
  "kernelspec": {
   "display_name": "dsenv",
   "language": "python",
   "name": "python3"
  },
  "language_info": {
   "codemirror_mode": {
    "name": "ipython",
    "version": 3
   },
   "file_extension": ".py",
   "mimetype": "text/x-python",
   "name": "python",
   "nbconvert_exporter": "python",
   "pygments_lexer": "ipython3",
   "version": "3.11.13"
  }
 },
 "nbformat": 4,
 "nbformat_minor": 5
}
