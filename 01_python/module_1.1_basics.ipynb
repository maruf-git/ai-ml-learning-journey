{
 "cells": [
  {
   "cell_type": "markdown",
   "id": "c95639aa",
   "metadata": {},
   "source": [
    "# Variable"
   ]
  },
  {
   "cell_type": "code",
   "execution_count": 7,
   "id": "5fe81a41",
   "metadata": {},
   "outputs": [
    {
     "name": "stdout",
     "output_type": "stream",
     "text": [
      "5\n",
      "<class 'int'>\n"
     ]
    }
   ],
   "source": [
    "n = 5\n",
    "print(n)\n",
    "print(type(n))"
   ]
  },
  {
   "cell_type": "code",
   "execution_count": 8,
   "id": "11e4dc73",
   "metadata": {},
   "outputs": [
    {
     "name": "stdout",
     "output_type": "stream",
     "text": [
      "<class 'int'> <class 'float'> <class 'str'> <class 'bool'>\n"
     ]
    }
   ],
   "source": [
    "age = 20\n",
    "height = 5.6\n",
    "name = \"maruf\"\n",
    "is_passed = True\n",
    "print(type(age), type(height), type(name), type(is_passed))"
   ]
  },
  {
   "cell_type": "markdown",
   "id": "ad2ebba1",
   "metadata": {},
   "source": [
    "# Taking input in python"
   ]
  },
  {
   "cell_type": "code",
   "execution_count": 10,
   "id": "9891891b",
   "metadata": {},
   "outputs": [
    {
     "name": "stdout",
     "output_type": "stream",
     "text": [
      "rifat\n"
     ]
    }
   ],
   "source": [
    "name = input(\"What is your name?\")\n",
    "print(name)"
   ]
  },
  {
   "cell_type": "code",
   "execution_count": 12,
   "id": "697f4a17",
   "metadata": {},
   "outputs": [
    {
     "name": "stdout",
     "output_type": "stream",
     "text": [
      "25 <class 'str'>\n"
     ]
    }
   ],
   "source": [
    "age = input(\"input your age\")\n",
    "print(age, type(age))"
   ]
  },
  {
   "cell_type": "code",
   "execution_count": 13,
   "id": "57be9c3b",
   "metadata": {},
   "outputs": [
    {
     "name": "stdout",
     "output_type": "stream",
     "text": [
      "25 <class 'int'>\n"
     ]
    }
   ],
   "source": [
    "age = input(\"input your age\")\n",
    "age = int(age)\n",
    "print(age, type(age))"
   ]
  },
  {
   "cell_type": "code",
   "execution_count": 14,
   "id": "8f0d7124",
   "metadata": {},
   "outputs": [
    {
     "name": "stdout",
     "output_type": "stream",
     "text": [
      "5.6 <class 'str'>\n"
     ]
    }
   ],
   "source": [
    "height = input(\"Height?\")\n",
    "print(height,type(height))"
   ]
  },
  {
   "cell_type": "code",
   "execution_count": 15,
   "id": "73aaf885",
   "metadata": {},
   "outputs": [
    {
     "name": "stdout",
     "output_type": "stream",
     "text": [
      "5.6 <class 'float'>\n"
     ]
    }
   ],
   "source": [
    "height = float(input(\"Height?\"))\n",
    "print(height,type(height))"
   ]
  },
  {
   "cell_type": "markdown",
   "id": "46c04ba1",
   "metadata": {},
   "source": [
    "# Operators"
   ]
  },
  {
   "cell_type": "code",
   "execution_count": 17,
   "id": "00011fb1",
   "metadata": {},
   "outputs": [
    {
     "name": "stdout",
     "output_type": "stream",
     "text": [
      "3.3333333333333335\n"
     ]
    }
   ],
   "source": [
    "x=10; y=3\n",
    "div = x/y\n",
    "print(div)"
   ]
  },
  {
   "cell_type": "code",
   "execution_count": 18,
   "id": "e89be8a9",
   "metadata": {},
   "outputs": [
    {
     "name": "stdout",
     "output_type": "stream",
     "text": [
      "3.33\n"
     ]
    }
   ],
   "source": [
    "x=10; y=3\n",
    "div = round(x/y,2) #round 2\n",
    "print(div)"
   ]
  },
  {
   "cell_type": "markdown",
   "id": "e38dec6f",
   "metadata": {},
   "source": [
    "# Logical Operators"
   ]
  },
  {
   "cell_type": "code",
   "execution_count": 21,
   "id": "a6980377",
   "metadata": {},
   "outputs": [
    {
     "name": "stdout",
     "output_type": "stream",
     "text": [
      "False\n",
      "True\n",
      "False\n"
     ]
    }
   ],
   "source": [
    "# logical operator\n",
    "# or and not\n",
    "print(5>10)\n",
    "print(5>10 or 10>5)\n",
    "print(5>10 and 10>5)"
   ]
  },
  {
   "cell_type": "markdown",
   "id": "183079c2",
   "metadata": {},
   "source": [
    "# Precedence and Associativity"
   ]
  },
  {
   "cell_type": "markdown",
   "id": "9ad607e2",
   "metadata": {},
   "source": [
    "<!-- same as c , c++ -->"
   ]
  },
  {
   "cell_type": "markdown",
   "id": "87e5a532",
   "metadata": {},
   "source": [
    "same as c,c++"
   ]
  },
  {
   "cell_type": "markdown",
   "id": "cecb7110",
   "metadata": {},
   "source": [
    "# CF Problem Solve"
   ]
  },
  {
   "cell_type": "code",
   "execution_count": 32,
   "id": "1f29c506",
   "metadata": {},
   "outputs": [
    {
     "name": "stdout",
     "output_type": "stream",
     "text": [
      "5\n"
     ]
    }
   ],
   "source": [
    "line = input()\n",
    "numArr  = line.split()\n",
    "n1 = int(numArr[0])\n",
    "n2 = int(numArr[1])\n",
    "ans = n1%10 + n2%10\n",
    "print(ans)"
   ]
  },
  {
   "cell_type": "markdown",
   "id": "6a8606d8",
   "metadata": {},
   "source": []
  }
 ],
 "metadata": {
  "kernelspec": {
   "display_name": "Python (dsenv)",
   "language": "python",
   "name": "dsenv"
  },
  "language_info": {
   "codemirror_mode": {
    "name": "ipython",
    "version": 3
   },
   "file_extension": ".py",
   "mimetype": "text/x-python",
   "name": "python",
   "nbconvert_exporter": "python",
   "pygments_lexer": "ipython3",
   "version": "3.11.13"
  }
 },
 "nbformat": 4,
 "nbformat_minor": 5
}
