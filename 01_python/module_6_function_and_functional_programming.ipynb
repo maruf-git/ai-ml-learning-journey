{
 "cells": [
  {
   "cell_type": "markdown",
   "id": "df37aa67",
   "metadata": {},
   "source": [
    "# Function"
   ]
  },
  {
   "cell_type": "markdown",
   "id": "a772319e",
   "metadata": {},
   "source": [
    "## Parameters"
   ]
  },
  {
   "cell_type": "code",
   "execution_count": 2,
   "id": "f4d43c04",
   "metadata": {},
   "outputs": [],
   "source": [
    "def greet():\n",
    "    print(\"hello\")"
   ]
  },
  {
   "cell_type": "code",
   "execution_count": 3,
   "id": "5bddcc7b",
   "metadata": {},
   "outputs": [
    {
     "name": "stdout",
     "output_type": "stream",
     "text": [
      "hello\n"
     ]
    }
   ],
   "source": [
    "greet()"
   ]
  },
  {
   "cell_type": "code",
   "execution_count": 5,
   "id": "bfcde2d2",
   "metadata": {},
   "outputs": [
    {
     "name": "stdout",
     "output_type": "stream",
     "text": [
      "hello  maruf\n",
      "hello  guest\n"
     ]
    }
   ],
   "source": [
    "def greet(user=\"guest\"):\n",
    "    print(\"hello \",user)\n",
    "greet(\"maruf\")\n",
    "greet()"
   ]
  },
  {
   "cell_type": "code",
   "execution_count": null,
   "id": "cd016780",
   "metadata": {},
   "outputs": [
    {
     "name": "stdout",
     "output_type": "stream",
     "text": [
      "60\n",
      "60\n"
     ]
    }
   ],
   "source": [
    "def sum(a,b,c):\n",
    "    return a+b+c\n",
    "# positional argument\n",
    "print(sum(10,20,30))\n",
    "# keyword argument\n",
    "print(sum(c=30,b=20,a=10))\n",
    "\n"
   ]
  },
  {
   "cell_type": "code",
   "execution_count": null,
   "id": "4241b248",
   "metadata": {},
   "outputs": [
    {
     "name": "stdout",
     "output_type": "stream",
     "text": [
      "(1, 2, 3, 4, 5)\n",
      "15\n"
     ]
    }
   ],
   "source": [
    "# variable size arguments\n",
    "def sum(*args):\n",
    "    print(args)\n",
    "    s=0\n",
    "    for val in args:\n",
    "        s+=val\n",
    "    return s\n",
    "\n",
    "a=2\n",
    "print(sum(1,a,3,4,5))"
   ]
  },
  {
   "cell_type": "code",
   "execution_count": null,
   "id": "8cf8c77a",
   "metadata": {},
   "outputs": [
    {
     "name": "stdout",
     "output_type": "stream",
     "text": [
      "{'name': 'maruf', 'cls': 12, 'roll': 30}\n",
      "name : maruf\n",
      "cls : 12\n",
      "roll : 30\n"
     ]
    }
   ],
   "source": [
    "# variable size keyword arguments\n",
    "def student(**kwargs):\n",
    "    print(kwargs)\n",
    "    for key,val in kwargs.items():\n",
    "        print(f\"{key} : {val}\")\n",
    "    \n",
    "student(name=\"maruf\",cls=12,roll=30)"
   ]
  },
  {
   "cell_type": "code",
   "execution_count": null,
   "id": "e550ec20",
   "metadata": {},
   "outputs": [],
   "source": []
  },
  {
   "cell_type": "markdown",
   "id": "5dd47c4d",
   "metadata": {},
   "source": [
    "## Return Types in Function"
   ]
  },
  {
   "cell_type": "code",
   "execution_count": 21,
   "id": "6a1ea47a",
   "metadata": {},
   "outputs": [
    {
     "name": "stdout",
     "output_type": "stream",
     "text": [
      "5 10\n"
     ]
    }
   ],
   "source": [
    "# return tuple\n",
    "def check():\n",
    "    return 5,10\n",
    "type(check())\n",
    "\n",
    "# unpacking\n",
    "x,y=check()\n",
    "print(x,y)"
   ]
  },
  {
   "cell_type": "code",
   "execution_count": null,
   "id": "4e0f582c",
   "metadata": {},
   "outputs": [
    {
     "name": "stdout",
     "output_type": "stream",
     "text": [
      "<class 'list'>\n"
     ]
    }
   ],
   "source": [
    "# return list\n",
    "def check():\n",
    "    return [10,20,30]\n",
    "print(type(check()))"
   ]
  },
  {
   "cell_type": "code",
   "execution_count": 24,
   "id": "8751003e",
   "metadata": {},
   "outputs": [
    {
     "name": "stdout",
     "output_type": "stream",
     "text": [
      "<class 'tuple'>\n",
      "[10, 20, 30] [1, 2, 3]\n"
     ]
    }
   ],
   "source": [
    "# return multiple list as tuple\n",
    "def check():\n",
    "    a = [10,20,30]\n",
    "    b=[1,2,3]\n",
    "    return a,b\n",
    "print(type(check()))\n",
    "# unpacking\n",
    "a,b=check()\n",
    "print(a,b)"
   ]
  },
  {
   "cell_type": "code",
   "execution_count": 25,
   "id": "cf762943",
   "metadata": {},
   "outputs": [
    {
     "name": "stdout",
     "output_type": "stream",
     "text": [
      "<class 'set'>\n"
     ]
    }
   ],
   "source": [
    "# return set\n",
    "def check():\n",
    "    return {1,2,3}\n",
    "print(type(check()))"
   ]
  },
  {
   "cell_type": "markdown",
   "id": "5a04a7a5",
   "metadata": {},
   "source": [
    "# Iterator and Generator"
   ]
  },
  {
   "cell_type": "markdown",
   "id": "3c416d0d",
   "metadata": {},
   "source": [
    "## Iterator"
   ]
  },
  {
   "cell_type": "code",
   "execution_count": 37,
   "id": "726e54de",
   "metadata": {},
   "outputs": [
    {
     "name": "stdout",
     "output_type": "stream",
     "text": [
      "20\n",
      "40\n",
      "10\n",
      "60\n",
      "30\n",
      "20\n",
      "40\n",
      "10\n",
      "60\n",
      "30\n"
     ]
    }
   ],
   "source": [
    "s = {10,20,30,40,60}\n",
    "\n",
    "s_iter = iter(s)\n",
    "print(next(s_iter))\n",
    "print(next(s_iter))\n",
    "print(next(s_iter))\n",
    "print(next(s_iter))\n",
    "print(next(s_iter))\n",
    "\n",
    "for i in s:\n",
    "    print(i)"
   ]
  },
  {
   "cell_type": "markdown",
   "id": "6745a7e7",
   "metadata": {},
   "source": [
    "## Generator/Yield"
   ]
  },
  {
   "cell_type": "code",
   "execution_count": 39,
   "id": "f20221b6",
   "metadata": {},
   "outputs": [
    {
     "name": "stdout",
     "output_type": "stream",
     "text": [
      "[0, 1, 2, 3, 4, 5, 6, 7, 8, 9, 10, 11, 12, 13, 14, 15, 16, 17, 18, 19, 20, 21, 22, 23, 24, 25, 26, 27, 28, 29, 30, 31, 32, 33, 34, 35, 36, 37, 38, 39, 40, 41, 42, 43, 44, 45, 46, 47, 48, 49, 50, 51, 52, 53, 54, 55, 56, 57, 58, 59, 60, 61, 62, 63, 64, 65, 66, 67, 68, 69, 70, 71, 72, 73, 74, 75, 76, 77, 78, 79, 80, 81, 82, 83, 84, 85, 86, 87, 88, 89, 90, 91, 92, 93, 94, 95, 96, 97, 98, 99, 100, 101, 102, 103, 104, 105, 106, 107, 108, 109, 110, 111, 112, 113, 114, 115, 116, 117, 118, 119, 120, 121, 122, 123, 124, 125, 126, 127, 128, 129, 130, 131, 132, 133, 134, 135, 136, 137, 138, 139, 140, 141, 142, 143, 144, 145, 146, 147, 148, 149, 150, 151, 152, 153, 154, 155, 156, 157, 158, 159, 160, 161, 162, 163, 164, 165, 166, 167, 168, 169, 170, 171, 172, 173, 174, 175, 176, 177, 178, 179, 180, 181, 182, 183, 184, 185, 186, 187, 188, 189, 190, 191, 192, 193, 194, 195, 196, 197, 198, 199, 200, 201, 202, 203, 204, 205, 206, 207, 208, 209, 210, 211, 212, 213, 214, 215, 216, 217, 218, 219, 220, 221, 222, 223, 224, 225, 226, 227, 228, 229, 230, 231, 232, 233, 234, 235, 236, 237, 238, 239, 240, 241, 242, 243, 244, 245, 246, 247, 248, 249, 250, 251, 252, 253, 254, 255, 256, 257, 258, 259, 260, 261, 262, 263, 264, 265, 266, 267, 268, 269, 270, 271, 272, 273, 274, 275, 276, 277, 278, 279, 280, 281, 282, 283, 284, 285, 286, 287, 288, 289, 290, 291, 292, 293, 294, 295, 296, 297, 298, 299, 300, 301, 302, 303, 304, 305, 306, 307, 308, 309, 310, 311, 312, 313, 314, 315, 316, 317, 318, 319, 320, 321, 322, 323, 324, 325, 326, 327, 328, 329, 330, 331, 332, 333, 334, 335, 336, 337, 338, 339, 340, 341, 342, 343, 344, 345, 346, 347, 348, 349, 350, 351, 352, 353, 354, 355, 356, 357, 358, 359, 360, 361, 362, 363, 364, 365, 366, 367, 368, 369, 370, 371, 372, 373, 374, 375, 376, 377, 378, 379, 380, 381, 382, 383, 384, 385, 386, 387, 388, 389, 390, 391, 392, 393, 394, 395, 396, 397, 398, 399, 400, 401, 402, 403, 404, 405, 406, 407, 408, 409, 410, 411, 412, 413, 414, 415, 416, 417, 418, 419, 420, 421, 422, 423, 424, 425, 426, 427, 428, 429, 430, 431, 432, 433, 434, 435, 436, 437, 438, 439, 440, 441, 442, 443, 444, 445, 446, 447, 448, 449, 450, 451, 452, 453, 454, 455, 456, 457, 458, 459, 460, 461, 462, 463, 464, 465, 466, 467, 468, 469, 470, 471, 472, 473, 474, 475, 476, 477, 478, 479, 480, 481, 482, 483, 484, 485, 486, 487, 488, 489, 490, 491, 492, 493, 494, 495, 496, 497, 498, 499]\n"
     ]
    }
   ],
   "source": [
    "list = [x for x in range(500)]\n",
    "print(list)"
   ]
  },
  {
   "cell_type": "code",
   "execution_count": 49,
   "id": "e14f156b",
   "metadata": {},
   "outputs": [
    {
     "name": "stdout",
     "output_type": "stream",
     "text": [
      "<class 'generator'>\n",
      "<generator object data_loader at 0x000001BE6FA2D4E0>\n",
      "[0, 1, 2, 3, 4]\n",
      "[5, 6, 7, 8, 9]\n",
      "[10, 11, 12, 13, 14]\n"
     ]
    }
   ],
   "source": [
    "def data_loader(chunk_size,list):\n",
    "    for i in range(0,len(list),chunk_size):\n",
    "        yield list[i:i+chunk_size]\n",
    "x = data_loader(5,list)\n",
    "print(type(x))\n",
    "print(x)\n",
    "print(next(x))\n",
    "print(next(x))\n",
    "print(next(x))"
   ]
  },
  {
   "cell_type": "markdown",
   "id": "2bb8f4fe",
   "metadata": {},
   "source": [
    "# Lamda Function\n",
    "inline, anonymous, special function"
   ]
  },
  {
   "cell_type": "code",
   "execution_count": null,
   "id": "f2af8047",
   "metadata": {},
   "outputs": [
    {
     "name": "stdout",
     "output_type": "stream",
     "text": [
      "13\n"
     ]
    }
   ],
   "source": [
    "def square_addition(x,y):\n",
    "    return x**2+y**2\n",
    "\n",
    "\n",
    "# same thing using lamda function\n",
    "sq_add = lambda x,y: x**2 + y**2 \n",
    "print(sq_add(2,3))"
   ]
  },
  {
   "cell_type": "code",
   "execution_count": 55,
   "id": "c12a97b7",
   "metadata": {},
   "outputs": [
    {
     "name": "stdout",
     "output_type": "stream",
     "text": [
      "False\n"
     ]
    }
   ],
   "source": [
    "is_even = lambda x : x%2==0\n",
    "print(is_even(11))"
   ]
  },
  {
   "cell_type": "markdown",
   "id": "f70f5e67",
   "metadata": {},
   "source": [
    "# Map Function"
   ]
  },
  {
   "cell_type": "code",
   "execution_count": 5,
   "id": "faced0dd",
   "metadata": {},
   "outputs": [
    {
     "name": "stdout",
     "output_type": "stream",
     "text": [
      "[1, 4, 9, 16, 25]\n",
      "<map object at 0x000001F73EE686A0>\n",
      "[1, 4, 9, 16, 25]\n"
     ]
    }
   ],
   "source": [
    "# map in list\n",
    "lst = [1,2,3,4,5]\n",
    "def square(x):\n",
    "    return x*x\n",
    "\n",
    "# using list comprehension\n",
    "list_com_square = [x**2 for x in lst]\n",
    "print(list_com_square)\n",
    "\n",
    "# using map\n",
    "# map(function,iterable)\n",
    "list_map_square = map(square,lst)\n",
    "print(list_map_square)\n",
    "list_map_square = list(map(square,lst))\n",
    "print(list_map_square)\n"
   ]
  },
  {
   "cell_type": "code",
   "execution_count": 7,
   "id": "a022607f",
   "metadata": {},
   "outputs": [
    {
     "name": "stdout",
     "output_type": "stream",
     "text": [
      "[1, 4, 9, 16, 25]\n"
     ]
    }
   ],
   "source": [
    "# map with lambda function\n",
    "square  = list(map(lambda x: x**2,lst))\n",
    "print(square)"
   ]
  },
  {
   "cell_type": "code",
   "execution_count": 13,
   "id": "4362845c",
   "metadata": {},
   "outputs": [
    {
     "name": "stdout",
     "output_type": "stream",
     "text": [
      "['welcome', 'to', 'the', 'world', 'of', 'dev', 'bangladesh']\n",
      "['Welcome', 'To', 'The', 'World', 'Of', 'Dev', 'Bangladesh']\n",
      "Welcome To The World Of Dev Bangladesh\n"
     ]
    }
   ],
   "source": [
    "# map in string\n",
    "# make all the first characters of the string to uppercase\n",
    "string=\"welcome to the world of dev bangladesh\"\n",
    "lst_str = string.split()\n",
    "print(lst_str)\n",
    "upp_list = list(map(lambda word: word.capitalize(), lst_str))\n",
    "print(upp_list)\n",
    "\n",
    "# join back into a string\n",
    "result = \" \".join(upp_list)\n",
    "print(result)"
   ]
  },
  {
   "cell_type": "markdown",
   "id": "c947386f",
   "metadata": {},
   "source": [
    "# Filter Function in Python"
   ]
  },
  {
   "cell_type": "code",
   "execution_count": 16,
   "id": "b4a36cfa",
   "metadata": {},
   "outputs": [
    {
     "name": "stdout",
     "output_type": "stream",
     "text": [
      "[0, 1, 2, 3, 4, 5, 6, 7, 8, 9, 10, 11, 12, 13, 14, 15, 16, 17, 18, 19, 20, 21, 22, 23, 24, 25, 26, 27, 28, 29, 30, 31, 32, 33, 34, 35, 36, 37, 38, 39, 40, 41, 42, 43, 44, 45, 46, 47, 48, 49, 50, 51, 52, 53, 54, 55, 56, 57, 58, 59, 60, 61, 62, 63, 64, 65, 66, 67, 68, 69, 70, 71, 72, 73, 74, 75, 76, 77, 78, 79, 80, 81, 82, 83, 84, 85, 86, 87, 88, 89, 90, 91, 92, 93, 94, 95, 96, 97, 98, 99]\n",
      "<filter object at 0x000001F73F043910>\n",
      "[0, 2, 4, 6, 8, 10, 12, 14, 16, 18, 20, 22, 24, 26, 28, 30, 32, 34, 36, 38, 40, 42, 44, 46, 48, 50, 52, 54, 56, 58, 60, 62, 64, 66, 68, 70, 72, 74, 76, 78, 80, 82, 84, 86, 88, 90, 92, 94, 96, 98]\n"
     ]
    }
   ],
   "source": [
    "numbers = [x for x in range(100)]\n",
    "print(numbers)\n",
    "\n",
    "# even\n",
    "# filter(funnction->return true/false, iterable)\n",
    "even = filter(lambda x: x%2==0,numbers)\n",
    "print(even)\n",
    "even = list(filter(lambda x: x%2==0,numbers))\n",
    "print(even)"
   ]
  },
  {
   "cell_type": "code",
   "execution_count": null,
   "id": "73f41e22",
   "metadata": {},
   "outputs": [
    {
     "name": "stdout",
     "output_type": "stream",
     "text": [
      "[0, 1, '', None, 'Hello', [], [1, 2], None, True, False, None]\n",
      "[1, 'Hello', [1, 2], True]\n"
     ]
    }
   ],
   "source": [
    "# cleaning data\n",
    "data = [0,1,'', None, 'Hello', [], [1,2], None, True, False, None]\n",
    "print(data)\n",
    "\n",
    "# cleaned_data = list(filter(None,data)) # better aproach\n",
    "cleaned_data = list(filter(lambda x: x!=None and x!='' and x!=[] and x!=False, data))\n",
    "print(cleaned_data)"
   ]
  },
  {
   "cell_type": "markdown",
   "id": "bd15409e",
   "metadata": {},
   "source": [
    "# Reduce Function"
   ]
  },
  {
   "cell_type": "code",
   "execution_count": 26,
   "id": "2d228329",
   "metadata": {},
   "outputs": [
    {
     "name": "stdout",
     "output_type": "stream",
     "text": [
      "15\n"
     ]
    }
   ],
   "source": [
    "from functools import reduce\n",
    "\n",
    "lst = [1,2,3,4,5]\n",
    "# reduce(function, iterable)\n",
    "sum = reduce(lambda x,y: x+y, lst)\n",
    "print(sum)"
   ]
  },
  {
   "cell_type": "code",
   "execution_count": 29,
   "id": "3823b1c9",
   "metadata": {},
   "outputs": [
    {
     "name": "stdout",
     "output_type": "stream",
     "text": [
      "5\n"
     ]
    }
   ],
   "source": [
    "max_value = reduce(lambda x,y: x if x>y else y,lst)\n",
    "print(max_value)"
   ]
  },
  {
   "cell_type": "code",
   "execution_count": null,
   "id": "5caade63",
   "metadata": {},
   "outputs": [],
   "source": []
  }
 ],
 "metadata": {
  "kernelspec": {
   "display_name": "dsenv",
   "language": "python",
   "name": "python3"
  },
  "language_info": {
   "codemirror_mode": {
    "name": "ipython",
    "version": 3
   },
   "file_extension": ".py",
   "mimetype": "text/x-python",
   "name": "python",
   "nbconvert_exporter": "python",
   "pygments_lexer": "ipython3",
   "version": "3.11.13"
  }
 },
 "nbformat": 4,
 "nbformat_minor": 5
}
